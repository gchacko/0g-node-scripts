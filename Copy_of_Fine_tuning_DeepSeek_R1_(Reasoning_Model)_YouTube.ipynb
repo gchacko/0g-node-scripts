{
  "metadata": {
    "kernelspec": {
      "display_name": "Python 3",
      "language": "python",
      "name": "python3"
    },
    "language_info": {
      "name": "python",
      "version": "3.10.12",
      "mimetype": "text/x-python",
      "codemirror_mode": {
        "name": "ipython",
        "version": 3
      },
      "pygments_lexer": "ipython3",
      "nbconvert_exporter": "python",
      "file_extension": ".py"
    },
    "kaggle": {
      "accelerator": "nvidiaTeslaT4",
      "dataSources": [],
      "dockerImageVersionId": 30840,
      "isInternetEnabled": true,
      "language": "python",
      "sourceType": "notebook",
      "isGpuEnabled": true
    },
    "papermill": {
      "default_parameters": {},
      "duration": 1500.86091,
      "end_time": "2024-09-25T13:34:07.208125",
      "environment_variables": {},
      "exception": null,
      "input_path": "__notebook__.ipynb",
      "output_path": "__notebook__.ipynb",
      "parameters": {},
      "start_time": "2024-09-25T13:09:06.347215",
      "version": "2.6.0"
    },
    "colab": {
      "provenance": [],
      "include_colab_link": true
    }
  },
  "nbformat_minor": 0,
  "nbformat": 4,
  "cells": [
    {
      "cell_type": "markdown",
      "metadata": {
        "id": "view-in-github",
        "colab_type": "text"
      },
      "source": [
        "<a href=\"https://colab.research.google.com/github/gchacko/0g-node-scripts/blob/main/Copy_of_Fine_tuning_DeepSeek_R1_(Reasoning_Model)_YouTube.ipynb\" target=\"_parent\"><img src=\"https://colab.research.google.com/assets/colab-badge.svg\" alt=\"Open In Colab\"/></a>"
      ]
    },
    {
      "cell_type": "markdown",
      "source": [
        "## Credits\n",
        "\n",
        "This notebook and this code is a fork of Abid Ali Awan's tutorial on [Fine-Tuning DeepSeek R1](https://www.datacamp.com/tutorial/fine-tuning-deepseek-r1-reasoning-model). Eternally grateful for his work with DataCamp and his contributions to the community.\n",
        "\n",
        "\n",
        "## Which tools & packages will we be using today?\n",
        "\n",
        "Packages we're going to be using throughout this walkthrough will be\n",
        "\n",
        "- `unsloth`: Efficient fine-tuning and inference for LLMs — Specifically we will be using:\n",
        "    - `FastLanguageModel` module to optimize inference & fine-tuning\n",
        "    - `get_peft_model` to enable LoRa (Low-Rank Adaptation) fine-tuning\n",
        "- `peft`: Supports LoRA-based fine-tuning for large models.\n",
        "- Different Hugging Face modules:\n",
        "    - `transformers` from HuggingFace to work with our fine-tuning data and handle different model tasks\n",
        "    - `trl` Transformer Reinforcement Learning from HuggingFace which allows for supervised fine-tuning of the model — we will use the `SFFTrainer` wrapper\n",
        "    - `datasets` to fetch reasoning datasets from the Hugging Face Hub\n",
        "- `torch`: Deep learning framework used for training\n",
        "- `wandb`: Provides access to weights and biases for tracking our fine-tuning experiment"
      ],
      "metadata": {
        "id": "uqqP2z3tX0GK"
      }
    },
    {
      "cell_type": "markdown",
      "source": [
        "## Before we get started — how to access the Hugging Face and Weights & Biases API\n",
        "\n",
        "### Set GPU accelerator\n",
        "We are using Kaggle Notebooks because we have access to free GPUs. To enable GPU access, press on Settings > Accelerator > GPU T4 x2\n",
        "\n",
        "### How to access the Hugging Face API\n",
        "\n",
        "1. Register to Huggin Face if you have not already\n",
        "2. Go to [Hugging Face Tokens](https://huggingface.co/settings/tokens).\n",
        "3. Click **\"New Token\"**.\n",
        "4. Select **read/write** permissions if needed.\n",
        "5. Copy your **API key**.\n",
        "\n",
        "### Weights & Biases API key**\n",
        "1. Sign up at [Weights & Biases](https://wandb.ai/site).\n",
        "2. Go to [W&B Settings](https://wandb.ai/settings).\n",
        "3. Copy your **API key** from the \"API Keys\" section.\n",
        "\n",
        "### Add the API keys to Kaggle Notebooks\n",
        "1. Press on Add-ons > Secrets\n",
        "2. Add the API keys under `Hugging_Face_Token` and `wnb` respectively\n",
        "\n",
        "You can now use this code to retrieve your API keys\n",
        "\n",
        "```py\n",
        "from kaggle_secrets import UserSecretsClient\n",
        "user_secrets = UserSecretsClient()\n",
        "hugging_face_token = user_secrets.get_secret(\"Hugging_Face_Token\")\n",
        "wnb_token = user_secrets.get_secret(\"wnb\")\n",
        "```"
      ],
      "metadata": {
        "id": "ffgZZflVX0GN"
      }
    },
    {
      "cell_type": "markdown",
      "source": [
        "## Install relevant packages"
      ],
      "metadata": {
        "id": "xHVKw5AAX0GN"
      }
    },
    {
      "cell_type": "code",
      "source": [
        "%%capture\n",
        "\n",
        "!pip install unsloth # install unsloth\n",
        "!pip install --force-reinstall --no-cache-dir --no-deps git+https://github.com/unslothai/unsloth.git # Also get the latest version Unsloth!"
      ],
      "metadata": {
        "_cell_guid": "b1076dfc-b9ad-4769-8c92-a6c4dae69d19",
        "_uuid": "8f2839f25d086af736a60e9eeb907d3b93b6e0e5",
        "execution": {
          "iopub.status.busy": "2025-01-29T19:58:19.054123Z",
          "iopub.execute_input": "2025-01-29T19:58:19.054571Z",
          "iopub.status.idle": "2025-01-29T19:58:56.684903Z",
          "shell.execute_reply.started": "2025-01-29T19:58:19.054536Z",
          "shell.execute_reply": "2025-01-29T19:58:56.683546Z"
        },
        "papermill": {
          "duration": 164.985343,
          "end_time": "2024-09-25T13:11:54.926296",
          "exception": false,
          "start_time": "2024-09-25T13:09:09.940953",
          "status": "completed"
        },
        "tags": [],
        "trusted": true,
        "id": "86ZSSG4KX0GO"
      },
      "outputs": [],
      "execution_count": null
    },
    {
      "cell_type": "markdown",
      "source": [
        "## Import all relevant packages throughout this walkthrough"
      ],
      "metadata": {
        "id": "YRAAWlwGX0GO"
      }
    },
    {
      "cell_type": "code",
      "source": [
        "# Modules for fine-tuning\n",
        "from unsloth import FastLanguageModel\n",
        "import torch # Import PyTorch\n",
        "from trl import SFTTrainer # Trainer for supervised fine-tuning (SFT)\n",
        "from unsloth import is_bfloat16_supported # Checks if the hardware supports bfloat16 precision\n",
        "# Hugging Face modules\n",
        "from huggingface_hub import login # Lets you login to API\n",
        "from transformers import TrainingArguments # Defines training hyperparameters\n",
        "from datasets import load_dataset # Lets you load fine-tuning datasets\n",
        "# Import weights and biases\n",
        "import wandb\n",
        "# Import kaggle secrets\n",
        "from kaggle_secrets import UserSecretsClient"
      ],
      "metadata": {
        "execution": {
          "iopub.status.busy": "2025-01-29T19:59:09.834605Z",
          "iopub.execute_input": "2025-01-29T19:59:09.834963Z",
          "iopub.status.idle": "2025-01-29T19:59:40.974011Z",
          "shell.execute_reply.started": "2025-01-29T19:59:09.834919Z",
          "shell.execute_reply": "2025-01-29T19:59:40.973026Z"
        },
        "papermill": {
          "duration": 31.301473,
          "end_time": "2024-09-25T13:12:26.233487",
          "exception": false,
          "start_time": "2024-09-25T13:11:54.932014",
          "status": "completed"
        },
        "tags": [],
        "trusted": true,
        "id": "MtkhJ-AcX0GP",
        "outputId": "951be3ec-4cf9-4d8d-d15e-be136984b29e"
      },
      "outputs": [
        {
          "name": "stdout",
          "text": "🦥 Unsloth: Will patch your computer to enable 2x faster free finetuning.\n🦥 Unsloth Zoo will now patch everything to make training faster!\n",
          "output_type": "stream"
        }
      ],
      "execution_count": null
    },
    {
      "cell_type": "markdown",
      "source": [
        "## Create API keys and login to Hugging Face and Weights and Biases"
      ],
      "metadata": {
        "id": "rKmmSJmBX0GP"
      }
    },
    {
      "cell_type": "code",
      "source": [
        "# Initialize Hugging Face & WnB tokens\n",
        "user_secrets = UserSecretsClient() # from kaggle_secrets import UserSecretsClient\n",
        "hugging_face_token = user_secrets.get_secret(\"Hugging_Face_Token\")\n",
        "wnb_token = user_secrets.get_secret(\"wnb\")\n",
        "\n",
        "# Login to Hugging Face\n",
        "login(hugging_face_token) # from huggingface_hub import login\n",
        "\n",
        "# Login to WnB\n",
        "wandb.login(key=wnb_token) # import wandb\n",
        "run = wandb.init(\n",
        "    project='Fine-tune-DeepSeek-R1-Distill-Llama-8B on Medical COT Dataset_YouTube Walkthrough',\n",
        "    job_type=\"training\",\n",
        "    anonymous=\"allow\"\n",
        ")"
      ],
      "metadata": {
        "execution": {
          "iopub.status.busy": "2025-01-29T20:00:15.946153Z",
          "iopub.execute_input": "2025-01-29T20:00:15.94647Z",
          "iopub.status.idle": "2025-01-29T20:00:28.911415Z",
          "shell.execute_reply.started": "2025-01-29T20:00:15.94644Z",
          "shell.execute_reply": "2025-01-29T20:00:28.910308Z"
        },
        "papermill": {
          "duration": 0.618627,
          "end_time": "2024-09-25T13:12:26.85781",
          "exception": false,
          "start_time": "2024-09-25T13:12:26.239183",
          "status": "completed"
        },
        "tags": [],
        "trusted": true,
        "id": "YhWIrLDvX0GQ",
        "outputId": "40137288-05b5-4183-fdd2-4f29256e747a"
      },
      "outputs": [
        {
          "name": "stderr",
          "text": "\u001b[34m\u001b[1mwandb\u001b[0m: Using wandb-core as the SDK backend.  Please refer to https://wandb.me/wandb-core for more information.\n\u001b[34m\u001b[1mwandb\u001b[0m: Currently logged in as: \u001b[33madel94\u001b[0m (\u001b[33madel94-datacamp\u001b[0m). Use \u001b[1m`wandb login --relogin`\u001b[0m to force relogin\n\u001b[34m\u001b[1mwandb\u001b[0m: \u001b[33mWARNING\u001b[0m If you're specifying your api key in code, ensure this code is not shared publicly.\n\u001b[34m\u001b[1mwandb\u001b[0m: \u001b[33mWARNING\u001b[0m Consider setting the WANDB_API_KEY environment variable, or running `wandb login` from the command line.\n\u001b[34m\u001b[1mwandb\u001b[0m: Appending key for api.wandb.ai to your netrc file: /root/.netrc\n",
          "output_type": "stream"
        },
        {
          "output_type": "display_data",
          "data": {
            "text/plain": "<IPython.core.display.HTML object>",
            "text/html": "Tracking run with wandb version 0.19.1"
          },
          "metadata": {}
        },
        {
          "output_type": "display_data",
          "data": {
            "text/plain": "<IPython.core.display.HTML object>",
            "text/html": "Run data is saved locally in <code>/kaggle/working/wandb/run-20250129_200022-o0oba4pm</code>"
          },
          "metadata": {}
        },
        {
          "output_type": "display_data",
          "data": {
            "text/plain": "<IPython.core.display.HTML object>",
            "text/html": "Syncing run <strong><a href='https://wandb.ai/adel94-datacamp/Fine-tune-DeepSeek-R1-Distill-Llama-8B%20on%20Medical%20COT%20Dataset_YouTube%20Walkthrough/runs/o0oba4pm' target=\"_blank\">vibrant-lake-2</a></strong> to <a href='https://wandb.ai/adel94-datacamp/Fine-tune-DeepSeek-R1-Distill-Llama-8B%20on%20Medical%20COT%20Dataset_YouTube%20Walkthrough' target=\"_blank\">Weights & Biases</a> (<a href='https://wandb.me/developer-guide' target=\"_blank\">docs</a>)<br>"
          },
          "metadata": {}
        },
        {
          "output_type": "display_data",
          "data": {
            "text/plain": "<IPython.core.display.HTML object>",
            "text/html": " View project at <a href='https://wandb.ai/adel94-datacamp/Fine-tune-DeepSeek-R1-Distill-Llama-8B%20on%20Medical%20COT%20Dataset_YouTube%20Walkthrough' target=\"_blank\">https://wandb.ai/adel94-datacamp/Fine-tune-DeepSeek-R1-Distill-Llama-8B%20on%20Medical%20COT%20Dataset_YouTube%20Walkthrough</a>"
          },
          "metadata": {}
        },
        {
          "output_type": "display_data",
          "data": {
            "text/plain": "<IPython.core.display.HTML object>",
            "text/html": " View run at <a href='https://wandb.ai/adel94-datacamp/Fine-tune-DeepSeek-R1-Distill-Llama-8B%20on%20Medical%20COT%20Dataset_YouTube%20Walkthrough/runs/o0oba4pm' target=\"_blank\">https://wandb.ai/adel94-datacamp/Fine-tune-DeepSeek-R1-Distill-Llama-8B%20on%20Medical%20COT%20Dataset_YouTube%20Walkthrough/runs/o0oba4pm</a>"
          },
          "metadata": {}
        }
      ],
      "execution_count": null
    },
    {
      "cell_type": "markdown",
      "source": [
        "## Loading DeepSeek R1 and the Tokenizer\n",
        "\n",
        "**What are we doing in this step?**\n",
        "\n",
        "In this step, we **load the DeepSeek R1 model and its tokenizer** using `FastLanguageModel.from_pretrained()`. We also **configure key parameters** for efficient inference and fine-tuning. We will be using a distilled 8B version of R1 for faster computation.  \n",
        "\n",
        "**Key parameters explained**\n",
        "```py\n",
        "max_seq_length = 2048  # Define the maximum sequence length a model can handle (i.e., number of tokens per input)\n",
        "dtype = None  # Default data type (usually auto-detected)\n",
        "load_in_4bit = True  # Enables 4-bit quantization – a memory-saving optimization\n",
        "```\n",
        "\n",
        "**Intuition behind 4-bit quantization**\n",
        "\n",
        "Imagine compressing a **high-resolution image** to a smaller size—**it takes up less space but still looks good enough**. Similarly, **4-bit quantization reduces the precision of model weights**, making the model **smaller and faster while keeping most of its accuracy**. Instead of storing precise **32-bit or 16-bit numbers**, we compress them into **4-bit values**. This allows **large language models to run efficiently on consumer GPUs** without needing massive amounts of memory."
      ],
      "metadata": {
        "id": "08xrmEoGX0GQ"
      }
    },
    {
      "cell_type": "code",
      "source": [
        "# Set parameters\n",
        "max_seq_length = 2048 # Define the maximum sequence length a model can handle (i.e. how many tokens can be processed at once)\n",
        "dtype = None # Set to default\n",
        "load_in_4bit = True # Enables 4 bit quantization — a memory saving optimization\n",
        "\n",
        "# Load the DeepSeek R1 model and tokenizer using unsloth — imported using: from unsloth import FastLanguageModel\n",
        "model, tokenizer = FastLanguageModel.from_pretrained(\n",
        "    model_name=\"unsloth/DeepSeek-R1-Distill-Llama-8B\",  # Load the pre-trained DeepSeek R1 model (8B parameter version)\n",
        "    max_seq_length=max_seq_length, # Ensure the model can process up to 2048 tokens at once\n",
        "    dtype=dtype, # Use the default data type (e.g., FP16 or BF16 depending on hardware support)\n",
        "    load_in_4bit=load_in_4bit, # Load the model in 4-bit quantization to save memory\n",
        "    token=hugging_face_token, # Use hugging face token\n",
        ")"
      ],
      "metadata": {
        "execution": {
          "iopub.status.busy": "2025-01-29T20:00:40.266547Z",
          "iopub.execute_input": "2025-01-29T20:00:40.26687Z",
          "iopub.status.idle": "2025-01-29T20:01:07.132852Z",
          "shell.execute_reply.started": "2025-01-29T20:00:40.266846Z",
          "shell.execute_reply": "2025-01-29T20:01:07.131827Z"
        },
        "papermill": {
          "duration": 33.212874,
          "end_time": "2024-09-25T13:13:03.511347",
          "exception": false,
          "start_time": "2024-09-25T13:12:30.298473",
          "status": "completed"
        },
        "tags": [],
        "trusted": true,
        "id": "lIKN4dCPX0GQ",
        "outputId": "a7c2bf8d-94b8-4377-9bdb-94280a44638c",
        "colab": {
          "referenced_widgets": [
            "b027277b1fcb4e08acb38932d058b74d",
            "8cf2a497ff824da2abcb60585ab4c43b",
            "39cec955735b40ff94b5dbc02d9db235",
            "14cc20e28f27432f9f7c7d75150004a0",
            "5bdf291ea69248b6970f44a8d518c8d5"
          ]
        }
      },
      "outputs": [
        {
          "name": "stdout",
          "text": "==((====))==  Unsloth 2025.1.7: Fast Llama patching. Transformers: 4.48.1.\n   \\\\   /|    GPU: Tesla T4. Max memory: 14.741 GB. Platform: Linux.\nO^O/ \\_/ \\    Torch: 2.5.1+cu121. CUDA: 7.5. CUDA Toolkit: 12.1. Triton: 3.1.0\n\\        /    Bfloat16 = FALSE. FA [Xformers = 0.0.29.post1. FA2 = False]\n \"-____-\"     Free Apache license: http://github.com/unslothai/unsloth\nUnsloth: Fast downloading is enabled - ignore downloading bars which are red colored!\n",
          "output_type": "stream"
        },
        {
          "output_type": "display_data",
          "data": {
            "text/plain": "model.safetensors:   0%|          | 0.00/5.96G [00:00<?, ?B/s]",
            "application/vnd.jupyter.widget-view+json": {
              "version_major": 2,
              "version_minor": 0,
              "model_id": "b027277b1fcb4e08acb38932d058b74d"
            }
          },
          "metadata": {}
        },
        {
          "output_type": "display_data",
          "data": {
            "text/plain": "generation_config.json:   0%|          | 0.00/231 [00:00<?, ?B/s]",
            "application/vnd.jupyter.widget-view+json": {
              "version_major": 2,
              "version_minor": 0,
              "model_id": "8cf2a497ff824da2abcb60585ab4c43b"
            }
          },
          "metadata": {}
        },
        {
          "output_type": "display_data",
          "data": {
            "text/plain": "tokenizer_config.json:   0%|          | 0.00/52.9k [00:00<?, ?B/s]",
            "application/vnd.jupyter.widget-view+json": {
              "version_major": 2,
              "version_minor": 0,
              "model_id": "39cec955735b40ff94b5dbc02d9db235"
            }
          },
          "metadata": {}
        },
        {
          "output_type": "display_data",
          "data": {
            "text/plain": "special_tokens_map.json:   0%|          | 0.00/483 [00:00<?, ?B/s]",
            "application/vnd.jupyter.widget-view+json": {
              "version_major": 2,
              "version_minor": 0,
              "model_id": "14cc20e28f27432f9f7c7d75150004a0"
            }
          },
          "metadata": {}
        },
        {
          "output_type": "display_data",
          "data": {
            "text/plain": "tokenizer.json:   0%|          | 0.00/17.2M [00:00<?, ?B/s]",
            "application/vnd.jupyter.widget-view+json": {
              "version_major": 2,
              "version_minor": 0,
              "model_id": "5bdf291ea69248b6970f44a8d518c8d5"
            }
          },
          "metadata": {}
        }
      ],
      "execution_count": null
    },
    {
      "cell_type": "markdown",
      "source": [
        "## Testing DeepSeek R1 on a medical use-case before fine-tuning\n",
        "\n",
        "\n",
        "### Defining a system prompt\n",
        "To create a prompt style for the model, we will define a system prompt and include placeholders for the question and response generation. The prompt will guide the model to think step-by-step and provide a logical, accurate response."
      ],
      "metadata": {
        "id": "oHsfRIZfX0GR"
      }
    },
    {
      "cell_type": "code",
      "source": [
        "# Define a system prompt under prompt_style\n",
        "prompt_style = \"\"\"Below is an instruction that describes a task, paired with an input that provides further context.\n",
        "Write a response that appropriately completes the request.\n",
        "Before answering, think carefully about the question and create a step-by-step chain of thoughts to ensure a logical and accurate response.\n",
        "\n",
        "### Instruction:\n",
        "You are a medical expert with advanced knowledge in clinical reasoning, diagnostics, and treatment planning.\n",
        "Please answer the following medical question.\n",
        "\n",
        "### Question:\n",
        "{}\n",
        "\n",
        "### Response:\n",
        "<think>{}\"\"\""
      ],
      "metadata": {
        "execution": {
          "iopub.status.busy": "2025-01-29T20:01:25.606293Z",
          "iopub.execute_input": "2025-01-29T20:01:25.606658Z",
          "iopub.status.idle": "2025-01-29T20:01:25.612073Z",
          "shell.execute_reply.started": "2025-01-29T20:01:25.606625Z",
          "shell.execute_reply": "2025-01-29T20:01:25.611214Z"
        },
        "papermill": {
          "duration": 0.014436,
          "end_time": "2024-09-25T13:13:09.483925",
          "exception": false,
          "start_time": "2024-09-25T13:13:09.469489",
          "status": "completed"
        },
        "tags": [],
        "trusted": true,
        "id": "rCMss30mX0GR"
      },
      "outputs": [],
      "execution_count": null
    },
    {
      "cell_type": "markdown",
      "source": [
        "### Running inference on the model\n",
        "\n",
        "In this step, we **test the DeepSeek R1 model** by providing a **medical question** and generating a response.  \n",
        "The process involves the following steps:\n",
        "\n",
        "1. **Define a test question** related to a medical case.\n",
        "2. **Format the question using the structured prompt (`prompt_style`)** to ensure the model follows a logical reasoning process.\n",
        "3. **Tokenize the input and move it to the GPU (`cuda`)** for faster inference.\n",
        "4. **Generate a response using the model**, specifying key parameters like `max_new_tokens=1200` (limits response length).\n",
        "5. **Decode the output tokens back into text** to obtain the final readable answer."
      ],
      "metadata": {
        "id": "4KGmTjlRX0GR"
      }
    },
    {
      "cell_type": "code",
      "source": [
        "# Creating a test medical question for inference\n",
        "question = \"\"\"A 61-year-old woman with a long history of involuntary urine loss during activities like coughing or\n",
        "              sneezing but no leakage at night undergoes a gynecological exam and Q-tip test. Based on these findings,\n",
        "              what would cystometry most likely reveal about her residual volume and detrusor contractions?\"\"\"\n",
        "\n",
        "# Enable optimized inference mode for Unsloth models (improves speed and efficiency)\n",
        "FastLanguageModel.for_inference(model)  # Unsloth has 2x faster inference!\n",
        "\n",
        "# Format the question using the structured prompt (`prompt_style`) and tokenize it\n",
        "inputs = tokenizer([prompt_style.format(question, \"\")], return_tensors=\"pt\").to(\"cuda\")  # Convert input to PyTorch tensor & move to GPU\n",
        "\n",
        "# Generate a response using the model\n",
        "outputs = model.generate(\n",
        "    input_ids=inputs.input_ids, # Tokenized input question\n",
        "    attention_mask=inputs.attention_mask, # Attention mask to handle padding\n",
        "    max_new_tokens=1200, # Limit response length to 1200 tokens (to prevent excessive output)\n",
        "    use_cache=True, # Enable caching for faster inference\n",
        ")\n",
        "\n",
        "# Decode the generated output tokens into human-readable text\n",
        "response = tokenizer.batch_decode(outputs)\n",
        "\n",
        "# Extract and print only the relevant response part (after \"### Response:\")\n",
        "print(response[0].split(\"### Response:\")[1])"
      ],
      "metadata": {
        "trusted": true,
        "execution": {
          "iopub.status.busy": "2025-01-29T20:04:58.262593Z",
          "iopub.execute_input": "2025-01-29T20:04:58.262989Z",
          "iopub.status.idle": "2025-01-29T20:05:23.499034Z",
          "shell.execute_reply.started": "2025-01-29T20:04:58.26295Z",
          "shell.execute_reply": "2025-01-29T20:05:23.498073Z"
        },
        "id": "P4sjMs-AX0GR",
        "outputId": "dbe8e1bd-dd7a-4653-e923-6fdaf64857d9"
      },
      "outputs": [
        {
          "name": "stdout",
          "text": "\n<think>\nOkay, so I'm trying to figure out what cystometry would show for this 61-year-old woman. Let me start by breaking down the information given.\n\nFirst, the patient has a long history of involuntary urine loss when she coughs or sneezes. That makes me think of stress urinary incontinence, especially since she doesn't leak at night. Stress incontinence usually happens when the urethral muscles aren't strong enough to prevent urine from leaking when there's increased pressure, like from coughing.\n\nShe undergoes a gynecological exam and a Q-tip test. I'm not entirely sure about the Q-tip test, but I think it's a common diagnostic tool for incontinence. Maybe it involves inserting a cotton swab (Q-tip) into the vagina to measure how far it's pushed out, which might indicate urethral resistance or instability.\n\nNow, considering the findings from these tests, what would cystometry reveal? Cystometry is a test where they fill the bladder and monitor how it holds up under certain conditions. It can show things like the maximum capacity, residual volume, and how the detrusor muscle contracts.\n\nGiven her history, I expect that her residual volume might be normal since she doesn't leak at night, which usually relates to emptying the bladder completely. But during activities that increase pressure, her detrusor might not contract properly, leading to leakage.\n\nSo, putting it together, the cystometry would likely show normal residual volume but impaired detrusor contractions during increased pressure, like coughing. That would explain her symptoms of stress incontinence.\n</think>\n\nCystometry for this 61-year-old woman would likely reveal a normal residual volume, as she does not experience leakage at night. However, it would demonstrate impaired detrusor contractions during activities that increase intra-abdominal pressure, such as coughing or sneezing. This pattern is consistent with stress urinary incontinence, where the detrusor muscle's ability to contract adequately is compromised, leading to involuntary urine loss during these activities.<｜end▁of▁sentence｜>\n",
          "output_type": "stream"
        }
      ],
      "execution_count": null
    },
    {
      "cell_type": "markdown",
      "source": [
        ">**Before starting fine-tuning — why are we fine-tuning in the first place?**\n",
        ">\n",
        "> Even without fine-tuning, our model successfully generated a chain of thought and provided reasoning before delivering the final answer. The reasoning process is encapsulated within the `<think>` `</think>` tags. So, why do we still need fine-tuning? The reasoning process, while detailed, was long-winded and not concise. Additionally, we want the final answer to be consistent in a certain style.\n",
        "\n"
      ],
      "metadata": {
        "id": "eROddyroX0GR"
      }
    },
    {
      "cell_type": "markdown",
      "source": [
        "## Fine-tuning step by step\n",
        "\n",
        "### Step 1 — Update the system prompt\n",
        "We will slightly change the prompt style for processing the dataset by adding the third placeholder for the complex chain of thought column. `</think>`"
      ],
      "metadata": {
        "id": "QQE-lUSMX0GR"
      }
    },
    {
      "cell_type": "code",
      "source": [
        "# Updated training prompt style to add </think> tag\n",
        "train_prompt_style = \"\"\"Below is an instruction that describes a task, paired with an input that provides further context.\n",
        "Write a response that appropriately completes the request.\n",
        "Before answering, think carefully about the question and create a step-by-step chain of thoughts to ensure a logical and accurate response.\n",
        "\n",
        "### Instruction:\n",
        "You are a medical expert with advanced knowledge in clinical reasoning, diagnostics, and treatment planning.\n",
        "Please answer the following medical question.\n",
        "\n",
        "### Question:\n",
        "{}\n",
        "\n",
        "### Response:\n",
        "<think>\n",
        "{}\n",
        "</think>\n",
        "{}\"\"\"\n"
      ],
      "metadata": {
        "trusted": true,
        "execution": {
          "iopub.status.busy": "2025-01-29T20:06:00.558025Z",
          "iopub.execute_input": "2025-01-29T20:06:00.558412Z",
          "iopub.status.idle": "2025-01-29T20:06:00.56432Z",
          "shell.execute_reply.started": "2025-01-29T20:06:00.558381Z",
          "shell.execute_reply": "2025-01-29T20:06:00.56302Z"
        },
        "id": "4mFeXhFpX0GR"
      },
      "outputs": [],
      "execution_count": null
    },
    {
      "cell_type": "markdown",
      "source": [
        "### Step 2 — Download the fine-tuning dataset and format it for fine-tuning\n",
        "\n",
        "We will use the Medical O1 Reasoninng SFT found here on [Hugging Face](https://huggingface.co/datasets/FreedomIntelligence/medical-o1-reasoning-SFT). From the authors: This dataset is used to fine-tune HuatuoGPT-o1, a medical LLM designed for advanced medical reasoning. This dataset is constructed using GPT-4o, which searches for solutions to verifiable medical problems and validates them through a medical verifier."
      ],
      "metadata": {
        "id": "V0NEKsyvX0GS"
      }
    },
    {
      "cell_type": "code",
      "source": [
        "# Download the dataset using Hugging Face — function imported using from datasets import load_dataset\n",
        "dataset = load_dataset(\"FreedomIntelligence/medical-o1-reasoning-SFT\",\"en\", split = \"train[0:500]\",trust_remote_code=True) # Keep only first 500 rows\n",
        "dataset"
      ],
      "metadata": {
        "trusted": true,
        "execution": {
          "iopub.status.busy": "2025-01-29T20:06:02.693826Z",
          "iopub.execute_input": "2025-01-29T20:06:02.694315Z",
          "iopub.status.idle": "2025-01-29T20:06:10.130058Z",
          "shell.execute_reply.started": "2025-01-29T20:06:02.694277Z",
          "shell.execute_reply": "2025-01-29T20:06:10.129021Z"
        },
        "id": "TvMaW-jZX0GS",
        "outputId": "bd9d84e8-86b7-4b08-8c02-e37ab697c853",
        "colab": {
          "referenced_widgets": [
            "21592c8ed8bc491daaf14fa9c9ffc97d",
            "54dc99c75da64fea917c9c76ccfc9a7d",
            "3dd5cd80e8aa4be0a17a156cf605eb46"
          ]
        }
      },
      "outputs": [
        {
          "output_type": "display_data",
          "data": {
            "text/plain": "README.md:   0%|          | 0.00/1.25k [00:00<?, ?B/s]",
            "application/vnd.jupyter.widget-view+json": {
              "version_major": 2,
              "version_minor": 0,
              "model_id": "21592c8ed8bc491daaf14fa9c9ffc97d"
            }
          },
          "metadata": {}
        },
        {
          "output_type": "display_data",
          "data": {
            "text/plain": "medical_o1_sft.json:   0%|          | 0.00/74.1M [00:00<?, ?B/s]",
            "application/vnd.jupyter.widget-view+json": {
              "version_major": 2,
              "version_minor": 0,
              "model_id": "54dc99c75da64fea917c9c76ccfc9a7d"
            }
          },
          "metadata": {}
        },
        {
          "output_type": "display_data",
          "data": {
            "text/plain": "Generating train split:   0%|          | 0/25371 [00:00<?, ? examples/s]",
            "application/vnd.jupyter.widget-view+json": {
              "version_major": 2,
              "version_minor": 0,
              "model_id": "3dd5cd80e8aa4be0a17a156cf605eb46"
            }
          },
          "metadata": {}
        },
        {
          "execution_count": 10,
          "output_type": "execute_result",
          "data": {
            "text/plain": "Dataset({\n    features: ['Question', 'Complex_CoT', 'Response'],\n    num_rows: 500\n})"
          },
          "metadata": {}
        }
      ],
      "execution_count": null
    },
    {
      "cell_type": "code",
      "source": [
        "# Show an entry from the dataset\n",
        "dataset[1]"
      ],
      "metadata": {
        "trusted": true,
        "execution": {
          "iopub.status.busy": "2025-01-29T20:06:12.049669Z",
          "iopub.execute_input": "2025-01-29T20:06:12.050037Z",
          "iopub.status.idle": "2025-01-29T20:06:12.056741Z",
          "shell.execute_reply.started": "2025-01-29T20:06:12.050012Z",
          "shell.execute_reply": "2025-01-29T20:06:12.055988Z"
        },
        "id": "eTJsxyxFX0GS",
        "outputId": "26d8627e-33ad-4998-8e0d-292cd90897fd"
      },
      "outputs": [
        {
          "execution_count": 11,
          "output_type": "execute_result",
          "data": {
            "text/plain": "{'Question': 'A 45-year-old man with a history of alcohol use, who has been abstinent for the past 10 years, presents with sudden onset dysarthria, shuffling gait, and intention tremors. Given this clinical presentation and history, what is the most likely diagnosis?',\n 'Complex_CoT': \"Alright, let’s break this down. We have a 45-year-old man here, who suddenly starts showing some pretty specific symptoms: dysarthria, shuffling gait, and those intention tremors. This suggests something's going wrong with motor control, probably involving the cerebellum or its connections.\\n\\nNow, what's intriguing is that he's had a history of alcohol use, but he's been off it for the past 10 years. Alcohol can do a number on the cerebellum, leading to degeneration, and apparently, the effects can hang around or even appear long after one stops drinking.\\n\\nAt first glance, these symptoms look like they could be some kind of chronic degeneration, maybe something like alcoholic cerebellar degeneration, but hold on. This looks different. The symptoms just came on all of a sudden. Chronic degenerations typically have a more gradual onset.\\n\\nOkay, let’s reconsider this sudden nature. It’s making me think of something more acute, more rapid onset. Hmm, if we dig back into his history of drinking, there might have been some damage done, leading to nutritional deficiencies, like a lack of thiamine.\\n\\nWernicke’s encephalopathy is a classic possibility here. That condition pops up due to thiamine deficiency, often after a history of alcohol use. It’s known for causing ataxia, confusion, and eye movement issues. However, he’s not showing the full triad of symptoms; there's no mention of confusion or eye problems, so maybe it doesn’t fit perfectly.\\n\\nOh, wait a second, maybe we're missing something simpler. Given the acute nature of the symptoms, maybe this is more in line with something like a stroke. Sudden onset can definitely suggest a vascular event. With his alcohol history, he’s at risk for things like high blood pressure, which can increase stroke risk.\\n\\nIn particular, lacunar strokes can mess with motor coordination, speech, the works. These are small, but significant enough to cause these exact symptoms: dysarthria, tremors, and a shuffling gait.\\n\\nBut hang on, what if there’s another angle we’re missing? Chronic alcohol effects might still play a role here, just in a different way. There’s a condition called acquired hepatocerebral degeneration. This can happen in people with a history of liver disease due to alcohol, even years after they’ve quit. It can result in symptoms like these because of how substances get deposited in the brain.\\n\\nLinking this back to our patient, his history with alcohol could’ve led to some liver issues, and now, here we are with these symptoms showing up suddenly. Makes sense, right? So, considering everything, acquired hepatocerebral degeneration seems to fit quite nicely. That’s probably our most fitting diagnosis for this situation.\",\n 'Response': \"Considering the clinical presentation of sudden onset dysarthria, shuffling gait, and intention tremors in a 45-year-old man with a history of alcohol use who has been abstinent for the past 10 years, the most likely diagnosis is acquired hepatocerebral degeneration.\\n\\nThis condition is associated with chronic liver disease, which can often be a consequence of long-term alcohol use. Despite the patient's abstinence from alcohol for a decade, previous alcohol use may have led to underlying liver dysfunction. This dysfunction, even if subclinical, can cause encephalopathy due to the accumulation of neurotoxic substances that affect the brain. The sudden onset of these neurological symptoms aligns with how acquired hepatocerebral degeneration can manifest, making it a probable diagnosis in this scenario.\"}"
          },
          "metadata": {}
        }
      ],
      "execution_count": null
    },
    {
      "cell_type": "markdown",
      "source": [
        ">**Next step is to structure the fine-tuning dataset according to train prompt style—why?**\n",
        ">\n",
        "> - Each question is paired with chain-of-thought reasoning and the final response.\n",
        "> - Ensures every training example follows a consistent pattern.\n",
        "> - Prevents the model from continuing beyond the expected response lengt by adding the EOS token."
      ],
      "metadata": {
        "id": "IOSp4Q_1X0GS"
      }
    },
    {
      "cell_type": "code",
      "source": [
        "# We need to format the dataset to fit our prompt training style\n",
        "EOS_TOKEN = tokenizer.eos_token  # Define EOS_TOKEN which the model when to stop generating text during training\n",
        "EOS_TOKEN"
      ],
      "metadata": {
        "trusted": true,
        "execution": {
          "iopub.status.busy": "2025-01-29T20:06:16.994098Z",
          "iopub.execute_input": "2025-01-29T20:06:16.9946Z",
          "iopub.status.idle": "2025-01-29T20:06:17.007002Z",
          "shell.execute_reply.started": "2025-01-29T20:06:16.99455Z",
          "shell.execute_reply": "2025-01-29T20:06:17.004997Z"
        },
        "id": "taFYRXsnX0GS",
        "outputId": "0036dd23-dc6e-406e-cd25-47d1979f4e45"
      },
      "outputs": [
        {
          "execution_count": 12,
          "output_type": "execute_result",
          "data": {
            "text/plain": "'<｜end▁of▁sentence｜>'"
          },
          "metadata": {}
        }
      ],
      "execution_count": null
    },
    {
      "cell_type": "code",
      "source": [
        "# Define formatting prompt function\n",
        "def formatting_prompts_func(examples):  # Takes a batch of dataset examples as input\n",
        "    inputs = examples[\"Question\"]       # Extracts the medical question from the dataset\n",
        "    cots = examples[\"Complex_CoT\"]      # Extracts the chain-of-thought reasoning (logical step-by-step explanation)\n",
        "    outputs = examples[\"Response\"]      # Extracts the final model-generated response (answer)\n",
        "\n",
        "    texts = []  # Initializes an empty list to store the formatted prompts\n",
        "\n",
        "    # Iterate over the dataset, formatting each question, reasoning step, and response\n",
        "    for input, cot, output in zip(inputs, cots, outputs):\n",
        "        text = train_prompt_style.format(input, cot, output) + EOS_TOKEN  # Insert values into prompt template & append EOS token\n",
        "        texts.append(text)  # Add the formatted text to the list\n",
        "\n",
        "    return {\n",
        "        \"text\": texts,  # Return the newly formatted dataset with a \"text\" column containing structured prompts\n",
        "    }"
      ],
      "metadata": {
        "trusted": true,
        "execution": {
          "iopub.status.busy": "2025-01-29T20:06:24.789804Z",
          "iopub.execute_input": "2025-01-29T20:06:24.790158Z",
          "iopub.status.idle": "2025-01-29T20:06:24.796465Z",
          "shell.execute_reply.started": "2025-01-29T20:06:24.790131Z",
          "shell.execute_reply": "2025-01-29T20:06:24.795409Z"
        },
        "id": "N7h0yKxfX0GS"
      },
      "outputs": [],
      "execution_count": null
    },
    {
      "cell_type": "code",
      "source": [
        "# Update dataset formatting\n",
        "dataset_finetune = dataset.map(formatting_prompts_func, batched = True)\n",
        "dataset_finetune[\"text\"][0]"
      ],
      "metadata": {
        "trusted": true,
        "execution": {
          "iopub.status.busy": "2025-01-29T20:06:30.721662Z",
          "iopub.execute_input": "2025-01-29T20:06:30.722009Z",
          "iopub.status.idle": "2025-01-29T20:06:30.779592Z",
          "shell.execute_reply.started": "2025-01-29T20:06:30.721981Z",
          "shell.execute_reply": "2025-01-29T20:06:30.778531Z"
        },
        "id": "FhqWY2p4X0GS",
        "outputId": "24e573f6-4647-4a59-e9cc-915839d9a09b",
        "colab": {
          "referenced_widgets": [
            "b5e9cfa6668647a992ac1fd8efeaf4f8"
          ]
        }
      },
      "outputs": [
        {
          "output_type": "display_data",
          "data": {
            "text/plain": "Map:   0%|          | 0/500 [00:00<?, ? examples/s]",
            "application/vnd.jupyter.widget-view+json": {
              "version_major": 2,
              "version_minor": 0,
              "model_id": "b5e9cfa6668647a992ac1fd8efeaf4f8"
            }
          },
          "metadata": {}
        },
        {
          "execution_count": 14,
          "output_type": "execute_result",
          "data": {
            "text/plain": "\"Below is an instruction that describes a task, paired with an input that provides further context. \\nWrite a response that appropriately completes the request. \\nBefore answering, think carefully about the question and create a step-by-step chain of thoughts to ensure a logical and accurate response.\\n\\n### Instruction:\\nYou are a medical expert with advanced knowledge in clinical reasoning, diagnostics, and treatment planning. \\nPlease answer the following medical question. \\n\\n### Question:\\nA 61-year-old woman with a long history of involuntary urine loss during activities like coughing or sneezing but no leakage at night undergoes a gynecological exam and Q-tip test. Based on these findings, what would cystometry most likely reveal about her residual volume and detrusor contractions?\\n\\n### Response:\\n<think>\\nOkay, let's think about this step by step. There's a 61-year-old woman here who's been dealing with involuntary urine leakages whenever she's doing something that ups her abdominal pressure like coughing or sneezing. This sounds a lot like stress urinary incontinence to me. Now, it's interesting that she doesn't have any issues at night; she isn't experiencing leakage while sleeping. This likely means her bladder's ability to hold urine is fine when she isn't under physical stress. Hmm, that's a clue that we're dealing with something related to pressure rather than a bladder muscle problem. \\n\\nThe fact that she underwent a Q-tip test is intriguing too. This test is usually done to assess urethral mobility. In stress incontinence, a Q-tip might move significantly, showing urethral hypermobility. This kind of movement often means there's a weakness in the support structures that should help keep the urethra closed during increases in abdominal pressure. So, that's aligning well with stress incontinence.\\n\\nNow, let's think about what would happen during cystometry. Since stress incontinence isn't usually about sudden bladder contractions, I wouldn't expect to see involuntary detrusor contractions during this test. Her bladder isn't spasming or anything; it's more about the support structure failing under stress. Plus, she likely empties her bladder completely because stress incontinence doesn't typically involve incomplete emptying. So, her residual volume should be pretty normal. \\n\\nAll in all, it seems like if they do a cystometry on her, it will likely show a normal residual volume and no involuntary contractions. Yup, I think that makes sense given her symptoms and the typical presentations of stress urinary incontinence.\\n</think>\\nCystometry in this case of stress urinary incontinence would most likely reveal a normal post-void residual volume, as stress incontinence typically does not involve issues with bladder emptying. Additionally, since stress urinary incontinence is primarily related to physical exertion and not an overactive bladder, you would not expect to see any involuntary detrusor contractions during the test.<｜end▁of▁sentence｜>\""
          },
          "metadata": {}
        }
      ],
      "execution_count": null
    },
    {
      "cell_type": "markdown",
      "source": [
        "### Step 3 — Setting up the model using LoRA\n",
        "\n",
        "**An intuitive explanation of LoRA**\n",
        "\n",
        "Large language models (LLMs) have **millions or even billions of weights** that determine how they process and generate text. When fine-tuning a model, we usually update all these weights, which **requires massive computational resources and memory**.\n",
        "\n",
        "LoRA (**Low-Rank Adaptation**) allows to fine-tune efficiently by:\n",
        "\n",
        "- Instead of modifying all weights, **LoRA adds small, trainable adapters** to specific layers.  \n",
        "- These adapters **capture task-specific knowledge** while leaving the original model unchanged.  \n",
        "- This reduces the number of trainable parameters **by more than 90%**, making fine-tuning **faster and more memory-efficient**.  \n",
        "\n",
        "Think of an LLM as a **complex factory**. Instead of rebuilding the entire factory to produce a new product, LoRA **adds small, specialized tools** to existing machines. This allows the factory to adapt quickly **without disrupting its core structure**.\n",
        "\n",
        "For a more technical explanation, check out this tutorial by [Sebastian Raschka](https://www.youtube.com/watch?v=rgmJep4Sb4&t).\n",
        "\n",
        "Below, we will use the `get_peft_model()` function which stands for Parameter-Efficient Fine-Tuning — this function wraps the base model (`model`) with LoRA modifications, ensuring that only specific parameters are trained."
      ],
      "metadata": {
        "id": "cyXTzxCLX0GS"
      }
    },
    {
      "cell_type": "code",
      "source": [
        "# Apply LoRA (Low-Rank Adaptation) fine-tuning to the model\n",
        "model_lora = FastLanguageModel.get_peft_model(\n",
        "    model,\n",
        "    r=16,  # LoRA rank: Determines the size of the trainable adapters (higher = more parameters, lower = more efficiency)\n",
        "    target_modules=[  # List of transformer layers where LoRA adapters will be applied\n",
        "        \"q_proj\",   # Query projection in the self-attention mechanism\n",
        "        \"k_proj\",   # Key projection in the self-attention mechanism\n",
        "        \"v_proj\",   # Value projection in the self-attention mechanism\n",
        "        \"o_proj\",   # Output projection from the attention layer\n",
        "        \"gate_proj\",  # Used in feed-forward layers (MLP)\n",
        "        \"up_proj\",    # Part of the transformer’s feed-forward network (FFN)\n",
        "        \"down_proj\",  # Another part of the transformer’s FFN\n",
        "    ],\n",
        "    lora_alpha=16,  # Scaling factor for LoRA updates (higher values allow more influence from LoRA layers)\n",
        "    lora_dropout=0,  # Dropout rate for LoRA layers (0 means no dropout, full retention of information)\n",
        "    bias=\"none\",  # Specifies whether LoRA layers should learn bias terms (setting to \"none\" saves memory)\n",
        "    use_gradient_checkpointing=\"unsloth\",  # Saves memory by recomputing activations instead of storing them (recommended for long-context fine-tuning)\n",
        "    random_state=3407,  # Sets a seed for reproducibility, ensuring the same fine-tuning behavior across runs\n",
        "    use_rslora=False,  # Whether to use Rank-Stabilized LoRA (disabled here, meaning fixed-rank LoRA is used)\n",
        "    loftq_config=None,  # Low-bit Fine-Tuning Quantization (LoFTQ) is disabled in this configuration\n",
        ")"
      ],
      "metadata": {
        "execution": {
          "iopub.status.busy": "2025-01-29T20:06:40.516157Z",
          "iopub.execute_input": "2025-01-29T20:06:40.516483Z",
          "iopub.status.idle": "2025-01-29T20:06:47.413091Z",
          "shell.execute_reply.started": "2025-01-29T20:06:40.516457Z",
          "shell.execute_reply": "2025-01-29T20:06:47.412098Z"
        },
        "papermill": {
          "duration": 5.943269,
          "end_time": "2024-09-25T13:13:09.461941",
          "exception": false,
          "start_time": "2024-09-25T13:13:03.518672",
          "status": "completed"
        },
        "tags": [],
        "trusted": true,
        "id": "OjYyDNBmX0GT",
        "outputId": "503412f7-3c3a-4686-8771-940597021297"
      },
      "outputs": [
        {
          "name": "stderr",
          "text": "Unsloth 2025.1.7 patched 32 layers with 32 QKV layers, 32 O layers and 32 MLP layers.\n",
          "output_type": "stream"
        }
      ],
      "execution_count": null
    },
    {
      "cell_type": "markdown",
      "source": [
        "Now, we initialize `SFTTrainer`, a supervised fine-tuning trainer from `trl` (Transformer Reinforcement Learning), to fine-tune our model efficiently on a dataset."
      ],
      "metadata": {
        "id": "qOrjBxevX0GT"
      }
    },
    {
      "cell_type": "code",
      "source": [
        "# Initialize the fine-tuning trainer — Imported using from trl import SFTTrainer\n",
        "trainer = SFTTrainer(\n",
        "    model=model_lora,  # The model to be fine-tuned\n",
        "    tokenizer=tokenizer,  # Tokenizer to process text inputs\n",
        "    train_dataset=dataset_finetune,  # Dataset used for training\n",
        "    dataset_text_field=\"text\",  # Specifies which field in the dataset contains training text\n",
        "    max_seq_length=max_seq_length,  # Defines the maximum sequence length for inputs\n",
        "    dataset_num_proc=2,  # Uses 2 CPU threads to speed up data preprocessing\n",
        "\n",
        "    # Define training arguments\n",
        "    args=TrainingArguments(\n",
        "        per_device_train_batch_size=2,  # Number of examples processed per device (GPU) at a time\n",
        "        gradient_accumulation_steps=4,  # Accumulate gradients over 4 steps before updating weights\n",
        "        num_train_epochs=1, # Full fine-tuning run\n",
        "        warmup_steps=5,  # Gradually increases learning rate for the first 5 steps\n",
        "        max_steps=60,  # Limits training to 60 steps (useful for debugging; increase for full fine-tuning)\n",
        "        learning_rate=2e-4,  # Learning rate for weight updates (tuned for LoRA fine-tuning)\n",
        "        fp16=not is_bfloat16_supported(),  # Use FP16 (if BF16 is not supported) to speed up training\n",
        "        bf16=is_bfloat16_supported(),  # Use BF16 if supported (better numerical stability on newer GPUs)\n",
        "        logging_steps=10,  # Logs training progress every 10 steps\n",
        "        optim=\"adamw_8bit\",  # Uses memory-efficient AdamW optimizer in 8-bit mode\n",
        "        weight_decay=0.01,  # Regularization to prevent overfitting\n",
        "        lr_scheduler_type=\"linear\",  # Uses a linear learning rate schedule\n",
        "        seed=3407,  # Sets a fixed seed for reproducibility\n",
        "        output_dir=\"outputs\",  # Directory where fine-tuned model checkpoints will be saved\n",
        "    ),\n",
        ")\n"
      ],
      "metadata": {
        "trusted": true,
        "execution": {
          "iopub.status.busy": "2025-01-29T20:08:34.712291Z",
          "iopub.execute_input": "2025-01-29T20:08:34.712642Z",
          "iopub.status.idle": "2025-01-29T20:08:37.531796Z",
          "shell.execute_reply.started": "2025-01-29T20:08:34.712614Z",
          "shell.execute_reply": "2025-01-29T20:08:37.530713Z"
        },
        "id": "3q2gFDtbX0GT",
        "outputId": "d2c83c28-dcf1-43ab-9ff1-a635f512b485",
        "colab": {
          "referenced_widgets": [
            "0a927a4eb41c4d7093c6f2ec0d76894f"
          ]
        }
      },
      "outputs": [
        {
          "output_type": "display_data",
          "data": {
            "text/plain": "Map (num_proc=2):   0%|          | 0/500 [00:00<?, ? examples/s]",
            "application/vnd.jupyter.widget-view+json": {
              "version_major": 2,
              "version_minor": 0,
              "model_id": "0a927a4eb41c4d7093c6f2ec0d76894f"
            }
          },
          "metadata": {}
        }
      ],
      "execution_count": null
    },
    {
      "cell_type": "markdown",
      "source": [
        "## Step 4 — Model training!\n",
        "\n",
        "This should take around 30 to 40 minutes — we can then check out our training results on Weights and Biases"
      ],
      "metadata": {
        "id": "oSwPPe1WX0GT"
      }
    },
    {
      "cell_type": "code",
      "source": [
        "# Start the fine-tuning process\n",
        "trainer_stats = trainer.train()"
      ],
      "metadata": {
        "execution": {
          "iopub.status.busy": "2025-01-29T20:09:18.218759Z",
          "iopub.execute_input": "2025-01-29T20:09:18.219255Z",
          "iopub.status.idle": "2025-01-29T20:30:12.735201Z",
          "shell.execute_reply.started": "2025-01-29T20:09:18.219212Z",
          "shell.execute_reply": "2025-01-29T20:30:12.734278Z"
        },
        "papermill": {
          "duration": 1210.862521,
          "end_time": "2024-09-25T13:33:36.207919",
          "exception": false,
          "start_time": "2024-09-25T13:13:25.345398",
          "status": "completed"
        },
        "tags": [],
        "trusted": true,
        "id": "d9lbhvYVX0GT",
        "outputId": "570629e7-ccfd-4c5d-c934-1d8fef48c537"
      },
      "outputs": [
        {
          "name": "stderr",
          "text": "==((====))==  Unsloth - 2x faster free finetuning | Num GPUs = 1\n   \\\\   /|    Num examples = 500 | Num Epochs = 1\nO^O/ \\_/ \\    Batch size per device = 2 | Gradient Accumulation steps = 4\n\\        /    Total batch size = 8 | Total steps = 60\n \"-____-\"     Number of trainable parameters = 41,943,040\n\u001b[34m\u001b[1mwandb\u001b[0m: \u001b[33mWARNING\u001b[0m The `run_name` is currently set to the same value as `TrainingArguments.output_dir`. If this was not intended, please specify a different run name by setting the `TrainingArguments.run_name` parameter.\n",
          "output_type": "stream"
        },
        {
          "output_type": "display_data",
          "data": {
            "text/plain": "<IPython.core.display.HTML object>",
            "text/html": "\n    <div>\n      \n      <progress value='60' max='60' style='width:300px; height:20px; vertical-align: middle;'></progress>\n      [60/60 20:16, Epoch 0/1]\n    </div>\n    <table border=\"1\" class=\"dataframe\">\n  <thead>\n <tr style=\"text-align: left;\">\n      <th>Step</th>\n      <th>Training Loss</th>\n    </tr>\n  </thead>\n  <tbody>\n    <tr>\n      <td>10</td>\n      <td>1.918900</td>\n    </tr>\n    <tr>\n      <td>20</td>\n      <td>1.461500</td>\n    </tr>\n    <tr>\n      <td>30</td>\n      <td>1.402300</td>\n    </tr>\n    <tr>\n      <td>40</td>\n      <td>1.308800</td>\n    </tr>\n    <tr>\n      <td>50</td>\n      <td>1.344300</td>\n    </tr>\n    <tr>\n      <td>60</td>\n      <td>1.314000</td>\n    </tr>\n  </tbody>\n</table><p>"
          },
          "metadata": {}
        }
      ],
      "execution_count": null
    },
    {
      "cell_type": "code",
      "source": [
        "# Save the fine-tuned model\n",
        "wandb.finish()"
      ],
      "metadata": {
        "trusted": true,
        "execution": {
          "iopub.status.busy": "2025-01-29T20:32:11.084012Z",
          "iopub.execute_input": "2025-01-29T20:32:11.084369Z",
          "iopub.status.idle": "2025-01-29T20:32:12.546287Z",
          "shell.execute_reply.started": "2025-01-29T20:32:11.084339Z",
          "shell.execute_reply": "2025-01-29T20:32:12.545535Z"
        },
        "id": "cSLiT_ZWX0GT",
        "outputId": "35868ead-ebdc-4111-a45e-3c00f8a7cc31"
      },
      "outputs": [
        {
          "output_type": "display_data",
          "data": {
            "text/plain": "<IPython.core.display.HTML object>",
            "text/html": ""
          },
          "metadata": {}
        },
        {
          "output_type": "display_data",
          "data": {
            "text/plain": "<IPython.core.display.HTML object>",
            "text/html": "<br>    <style><br>        .wandb-row {<br>            display: flex;<br>            flex-direction: row;<br>            flex-wrap: wrap;<br>            justify-content: flex-start;<br>            width: 100%;<br>        }<br>        .wandb-col {<br>            display: flex;<br>            flex-direction: column;<br>            flex-basis: 100%;<br>            flex: 1;<br>            padding: 10px;<br>        }<br>    </style><br><div class=\"wandb-row\"><div class=\"wandb-col\"><h3>Run history:</h3><br/><table class=\"wandb\"><tr><td>train/epoch</td><td>▁▂▄▅▇██</td></tr><tr><td>train/global_step</td><td>▁▂▄▅▇██</td></tr><tr><td>train/grad_norm</td><td>█▂▂▁▂▂</td></tr><tr><td>train/learning_rate</td><td>█▇▅▄▂▁</td></tr><tr><td>train/loss</td><td>█▃▂▁▁▁</td></tr></table><br/></div><div class=\"wandb-col\"><h3>Run summary:</h3><br/><table class=\"wandb\"><tr><td>total_flos</td><td>1.8014312853602304e+16</td></tr><tr><td>train/epoch</td><td>0.96</td></tr><tr><td>train/global_step</td><td>60</td></tr><tr><td>train/grad_norm</td><td>0.26021</td></tr><tr><td>train/learning_rate</td><td>0</td></tr><tr><td>train/loss</td><td>1.314</td></tr><tr><td>train_loss</td><td>1.4583</td></tr><tr><td>train_runtime</td><td>1250.1298</td></tr><tr><td>train_samples_per_second</td><td>0.384</td></tr><tr><td>train_steps_per_second</td><td>0.048</td></tr></table><br/></div></div>"
          },
          "metadata": {}
        },
        {
          "output_type": "display_data",
          "data": {
            "text/plain": "<IPython.core.display.HTML object>",
            "text/html": " View run <strong style=\"color:#cdcd00\">vibrant-lake-2</strong> at: <a href='https://wandb.ai/adel94-datacamp/Fine-tune-DeepSeek-R1-Distill-Llama-8B%20on%20Medical%20COT%20Dataset_YouTube%20Walkthrough/runs/o0oba4pm' target=\"_blank\">https://wandb.ai/adel94-datacamp/Fine-tune-DeepSeek-R1-Distill-Llama-8B%20on%20Medical%20COT%20Dataset_YouTube%20Walkthrough/runs/o0oba4pm</a><br> View project at: <a href='https://wandb.ai/adel94-datacamp/Fine-tune-DeepSeek-R1-Distill-Llama-8B%20on%20Medical%20COT%20Dataset_YouTube%20Walkthrough' target=\"_blank\">https://wandb.ai/adel94-datacamp/Fine-tune-DeepSeek-R1-Distill-Llama-8B%20on%20Medical%20COT%20Dataset_YouTube%20Walkthrough</a><br>Synced 5 W&B file(s), 0 media file(s), 0 artifact file(s) and 0 other file(s)"
          },
          "metadata": {}
        },
        {
          "output_type": "display_data",
          "data": {
            "text/plain": "<IPython.core.display.HTML object>",
            "text/html": "Find logs at: <code>./wandb/run-20250129_200022-o0oba4pm/logs</code>"
          },
          "metadata": {}
        }
      ],
      "execution_count": null
    },
    {
      "cell_type": "markdown",
      "source": [
        "## Step 5 — Run model inference after fine-tuning"
      ],
      "metadata": {
        "id": "eVayh4VvX0GT"
      }
    },
    {
      "cell_type": "code",
      "source": [
        "question = \"\"\"A 61-year-old woman with a long history of involuntary urine loss during activities like coughing or sneezing\n",
        "              but no leakage at night undergoes a gynecological exam and Q-tip test. Based on these findings,\n",
        "              what would cystometry most likely reveal about her residual volume and detrusor contractions?\"\"\"\n",
        "\n",
        "# Load the inference model using FastLanguageModel (Unsloth optimizes for speed)\n",
        "FastLanguageModel.for_inference(model_lora)  # Unsloth has 2x faster inference!\n",
        "\n",
        "# Tokenize the input question with a specific prompt format and move it to the GPU\n",
        "inputs = tokenizer([prompt_style.format(question, \"\")], return_tensors=\"pt\").to(\"cuda\")\n",
        "\n",
        "# Generate a response using LoRA fine-tuned model with specific parameters\n",
        "outputs = model_lora.generate(\n",
        "    input_ids=inputs.input_ids,          # Tokenized input IDs\n",
        "    attention_mask=inputs.attention_mask, # Attention mask for padding handling\n",
        "    max_new_tokens=1200,                  # Maximum length for generated response\n",
        "    use_cache=True,                        # Enable cache for efficient generation\n",
        ")\n",
        "\n",
        "# Decode the generated response from tokenized format to readable text\n",
        "response = tokenizer.batch_decode(outputs)\n",
        "\n",
        "# Extract and print only the model's response part after \"### Response:\"\n",
        "print(response[0].split(\"### Response:\")[1])"
      ],
      "metadata": {
        "execution": {
          "iopub.status.busy": "2025-01-29T20:32:34.719888Z",
          "iopub.execute_input": "2025-01-29T20:32:34.720304Z",
          "iopub.status.idle": "2025-01-29T20:33:12.659047Z",
          "shell.execute_reply.started": "2025-01-29T20:32:34.720275Z",
          "shell.execute_reply": "2025-01-29T20:33:12.657819Z"
        },
        "papermill": {
          "duration": 7.941358,
          "end_time": "2024-09-25T13:33:44.195877",
          "exception": false,
          "start_time": "2024-09-25T13:33:36.254519",
          "status": "completed"
        },
        "tags": [],
        "trusted": true,
        "id": "9FYyluvnX0GT",
        "outputId": "e6d0b038-4d01-4288-e6c6-da26cde9c52c"
      },
      "outputs": [
        {
          "name": "stdout",
          "text": "\n<think>\nOkay, so let's think about this. We have a 61-year-old woman who's been dealing with involuntary urine loss during things like coughing or sneezing, but she's not leaking at night. That suggests she might have some kind of problem with her pelvic floor muscles or maybe her bladder.\n\nNow, she's got a gynecological exam and a Q-tip test. Let's break that down. The Q-tip test is usually used to check for urethral obstruction. If it's positive, that means there's something blocking the urethra, like a urethral stricture or something else.\n\nIf she's experiencing involuntary loss during activities, like coughing, it might mean her pelvic floor muscles aren't working properly. They might not be contracting when they should to support the bladder. This could lead to a problem with the urethral sphincter, which controls the release of urine.\n\nBut let's not jump to conclusions. It's important to look at what's happening in the bladder. We need to know about her residual volume and detrusor contractions. These are key factors in understanding how her bladder is functioning.\n\nIf her bladder's capacity is low, that could mean she doesn't have enough space to hold the urine, leading to frequent urination. If her detrusor contractions are weak, that might explain why she's not able to hold her urine during activities.\n\nNow, let's think about cystometry. This test is crucial because it gives us direct insights into the bladder's function. It can tell us about how the bladder is filling, how much it can hold, and how well it's emptying.\n\nIn this case, if the cystometry shows a low residual volume and weak detrusor contractions, that might match the idea that her pelvic floor muscles aren't working well. It would support the idea that there's a problem with the urethral sphincter, not just a bladder issue.\n\nSo, putting it all together, if her Q-tip test is positive, indicating urethral obstruction, and she's having issues with her pelvic floor muscles, it makes sense that her bladder would have a low residual volume and weak contractions. This is what cystometry would likely reveal.\n</think>\nBased on the information provided, the cystometry would most likely reveal a low residual volume and weak detrusor contractions. This is consistent with the findings of urethral obstruction indicated by the Q-tip test, which suggests a possible urethral sphincter dysfunction. The symptoms of involuntary urine loss during activities like coughing or sneezing, combined with the pelvic floor muscle issues, further support this conclusion.<｜end▁of▁sentence｜>\n",
          "output_type": "stream"
        }
      ],
      "execution_count": null
    },
    {
      "cell_type": "code",
      "source": [
        "question = \"\"\"A 59-year-old man presents with a fever, chills, night sweats, and generalized fatigue,\n",
        "              and is found to have a 12 mm vegetation on the aortic valve. Blood cultures indicate gram-positive, catalase-negative,\n",
        "              gamma-hemolytic cocci in chains that do not grow in a 6.5% NaCl medium.\n",
        "              What is the most likely predisposing factor for this patient's condition?\"\"\"\n",
        "\n",
        "# Tokenize the input question with a specific prompt format and move it to the GPU\n",
        "inputs = tokenizer([prompt_style.format(question, \"\")], return_tensors=\"pt\").to(\"cuda\")\n",
        "\n",
        "# Generate a response using LoRA fine-tuned model with specific parameters\n",
        "outputs = model_lora.generate(\n",
        "    input_ids=inputs.input_ids,          # Tokenized input IDs\n",
        "    attention_mask=inputs.attention_mask, # Attention mask for padding handling\n",
        "    max_new_tokens=1200,                  # Maximum length for generated response\n",
        "    use_cache=True,                        # Enable cache for efficient generation\n",
        ")\n",
        "\n",
        "# Decode the generated response from tokenized format to readable text\n",
        "response = tokenizer.batch_decode(outputs)\n",
        "\n",
        "# Extract and print only the model's response part after \"### Response:\"\n",
        "print(response[0].split(\"### Response:\")[1])"
      ],
      "metadata": {
        "trusted": true,
        "execution": {
          "iopub.status.busy": "2025-01-29T20:33:50.478143Z",
          "iopub.execute_input": "2025-01-29T20:33:50.478519Z",
          "iopub.status.idle": "2025-01-29T20:34:17.100013Z",
          "shell.execute_reply.started": "2025-01-29T20:33:50.478488Z",
          "shell.execute_reply": "2025-01-29T20:34:17.099059Z"
        },
        "id": "ob8ZlNl0X0GT",
        "outputId": "340eb27e-bcc5-43ee-82a3-aa8330e43ae6"
      },
      "outputs": [
        {
          "name": "stdout",
          "text": "\n<think>\nAlright, let's think about this. So, the patient has a vegetation on the aortic valve, which is a classic sign of endocarditis. The bacteria they found are gram-positive and catalase-negative, which narrows it down to either Streptococcus or Enterococcus. \n\nNow, looking at the growth conditions, they don't grow in 6.5% NaCl. That's interesting because Enterococcus usually can't grow in that high concentration of salt. Oh, wait, that's a key clue. Enterococcus is actually the one that can't grow in that concentration. So, if they don't grow there, maybe it's not Enterococcus but Streptococcus. \n\nStreptococcus, especially the ones that are not hemolytic, can sometimes be part of this picture. These are often part of the normal flora of the mouth, and they're known to cause subacute bacterial endocarditis. That seems to fit here. \n\nSo, putting it all together, the most likely scenario is that this patient has subacute bacterial endocarditis caused by Streptococcus, and the most probable predisposing factor would be the presence of aortic valve vegetation. That makes sense with the clinical picture and the bacterial findings.\n</think>\nThe most likely predisposing factor for this patient's condition is the presence of aortic valve vegetation, which is indicative of subacute bacterial endocarditis. Given the bacterial characteristics—gram-positive, catalase-negative, gamma-hemolytic cocci in chains that do not grow in a 6.5% NaCl medium—the organism is more consistent with Streptococcus rather than Enterococcus. Streptococcus, especially non-hemolytic types, is often implicated in subacute bacterial endocarditis, aligning with the clinical presentation and the bacterial findings.<｜end▁of▁sentence｜>\n",
          "output_type": "stream"
        }
      ],
      "execution_count": null
    }
  ]
}